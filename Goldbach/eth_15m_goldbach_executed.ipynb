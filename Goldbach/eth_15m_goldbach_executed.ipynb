{
 "cells": [
  {
   "cell_type": "markdown",
   "id": "50c9c057",
   "metadata": {
    "tags": [
     "papermill-error-cell-tag"
    ]
   },
   "source": [
    "<span style=\"color:red; font-family:Helvetica Neue, Helvetica, Arial, sans-serif; font-size:2em;\">An Exception was encountered at '<a href=\"#papermill-error-cell\">In [6]</a>'.</span>"
   ]
  },
  {
   "cell_type": "markdown",
   "id": "6fc1db8c",
   "metadata": {
    "papermill": {
     "duration": 0.002175,
     "end_time": "2025-09-06T15:19:34.091665",
     "exception": false,
     "start_time": "2025-09-06T15:19:34.089490",
     "status": "completed"
    },
    "tags": []
   },
   "source": [
    "# ETH 15m — Goldbach strategy (cleaned)\n",
    "\n",
    "This notebook fetches 15-minute ETH/USD candles from Coinbase Pro, computes indicators, detects pivots, labels Goldbach phases, and runs a simple backtest using the PDF rules.\n",
    "\n",
    "Quick steps:\n",
    "- Ensure dependencies are installed in your kernel: `%pip install -r requirements.txt` or run the PowerShell command shown in the README.\n",
    "- Run cells from top to bottom. The main user-facing cells are: 1) Parameters, 2) Fetch & indicators, 3) Pivot & phase logic, 4) PDF rule integration, 5) Backtester & results.\n",
    "\n",
    "What this cleaned notebook includes:\n",
    "- Clear parameters cell (Coinbase, pair, timeframe) you can edit.\n",
    "- Clean, documented functions for pivots, phase labeling, and divergence detection.\n",
    "- A simple, illustrative backtester using pivot-based stops and slippage/fee modeling.\n",
    "\n",
    "Notes:\n",
    "- I preserved the Goldbach logic from the PDF but used reasonable defaults where the PDF didn't provide exact numbers. Tell me which thresholds to change and I'll update them."
   ]
  },
  {
   "cell_type": "code",
   "execution_count": 1,
   "id": "dc8f4094",
   "metadata": {
    "execution": {
     "iopub.execute_input": "2025-09-06T15:19:34.095931Z",
     "iopub.status.busy": "2025-09-06T15:19:34.095931Z",
     "iopub.status.idle": "2025-09-06T15:19:34.531622Z",
     "shell.execute_reply": "2025-09-06T15:19:34.531119Z"
    },
    "papermill": {
     "duration": 0.438349,
     "end_time": "2025-09-06T15:19:34.532134",
     "exception": false,
     "start_time": "2025-09-06T15:19:34.093785",
     "status": "completed"
    },
    "tags": []
   },
   "outputs": [],
   "source": [
    "# Improved pivot detector and refined Goldbach phase mapping\n",
    "import math\n",
    "import ta\n",
    "import pandas as pd\n",
    "\n",
    "\n",
    "def find_pivots_df(df, col='close', left=5, right=5, min_atr_mult=0.5):\n",
    "    \"\"\"Detect pivots using a left/right window and require minimum prominence relative to ATR.\n",
    "\n",
    "    Returns a dict mapping timestamp -> 'high' or 'low'.\n",
    "    \"\"\"\n",
    "    pivots = {}\n",
    "    prices = df[col].values\n",
    "    # compute ATR for prominence threshold (use 14-period ATR)\n",
    "    atr_obj = ta.volatility.AverageTrueRange(df['high'], df['low'], df['close'], window=14)\n",
    "    atr = atr_obj.average_true_range().fillna(method='backfill').values\n",
    "    n = len(prices)\n",
    "    for i in range(left, n - right):\n",
    "        window = prices[i - left:i + right + 1]\n",
    "        v = prices[i]\n",
    "        local_mean = window.mean()\n",
    "        prom = abs(v - local_mean)\n",
    "        # require local extremum and minimum prominence relative to ATR at i\n",
    "        if v == window.max() and prom >= max(0.0, min_atr_mult * atr[i]):\n",
    "            pivots[df.index[i]] = 'high'\n",
    "        elif v == window.min() and prom >= max(0.0, min_atr_mult * atr[i]):\n",
    "            pivots[df.index[i]] = 'low'\n",
    "    return pivots\n",
    "\n",
    "\n",
    "def recent_pivot_level(df, kind='low', lookback=200):\n",
    "    \"\"\"Return (timestamp, price) of the most recent pivot of `kind` within lookback bars or (None, None).\"\"\"\n",
    "    recent = df.tail(lookback)\n",
    "    if 'pivot' not in recent.columns:\n",
    "        return None, None\n",
    "    mask = recent['pivot'] == kind\n",
    "    if mask.any():\n",
    "        idx = recent[mask].index[-1]\n",
    "        return idx, recent.at[idx, 'close']\n",
    "    return None, None\n",
    "\n",
    "\n",
    "def goldbach_phase_refined(row, df=None):\n",
    "    \"\"\"Refined phase labeling: trend (EMA), momentum (RSI), volatility (BB width), and pivot proximity.\"\"\"\n",
    "    ema20 = row['ema20']\n",
    "    ema50 = row['ema50']\n",
    "    rsi = row['rsi14']\n",
    "    bb_w = row['bb_w']\n",
    "    close = row['close']\n",
    "    atr = row.get('atr14', float('nan'))\n",
    "\n",
    "    # Trend\n",
    "    if ema20 > ema50:\n",
    "        trend = 'bull'\n",
    "    elif ema20 < ema50:\n",
    "        trend = 'bear'\n",
    "    else:\n",
    "        trend = 'flat'\n",
    "\n",
    "    # Volatility\n",
    "    if pd.isna(bb_w):\n",
    "        vol = 'unknown'\n",
    "    elif bb_w > BB_WIDTH_HIGH:\n",
    "        vol = 'high'\n",
    "    elif bb_w < BB_WIDTH_LOW:\n",
    "        vol = 'low'\n",
    "    else:\n",
    "        vol = 'normal'\n",
    "\n",
    "    # Momentum\n",
    "    if pd.isna(rsi):\n",
    "        mom = 'unknown'\n",
    "    elif rsi > RSI_OB:\n",
    "        mom = 'overbought'\n",
    "    elif rsi < RSI_OS:\n",
    "        mom = 'oversold'\n",
    "    else:\n",
    "        mom = 'neutral'\n",
    "\n",
    "    # Proximity to recent pivots (if df provided)\n",
    "    prox = 'far'\n",
    "    if df is not None and not pd.isna(atr) and atr > 0:\n",
    "        idx_low, lvl_low = recent_pivot_level(df, 'low', lookback=200)\n",
    "        idx_high, lvl_high = recent_pivot_level(df, 'high', lookback=200)\n",
    "        if lvl_low is not None and abs(close - lvl_low) <= 1.0 * atr:\n",
    "            prox = 'near_low'\n",
    "        if lvl_high is not None and abs(close - lvl_high) <= 1.0 * atr:\n",
    "            prox = 'near_high'\n",
    "\n",
    "    # Phase rules\n",
    "    if vol == 'low':\n",
    "        phase = 'Ranging/Consolidation'\n",
    "    elif trend == 'bull' and mom in ('neutral', 'oversold'):\n",
    "        phase = 'Bull Pullback (support test)' if prox == 'near_low' else 'Bull Trend'\n",
    "    elif trend == 'bear' and mom in ('neutral', 'overbought'):\n",
    "        phase = 'Bear Pullback (resistance test)' if prox == 'near_high' else 'Bear Trend'\n",
    "    elif mom == 'oversold' and vol == 'high':\n",
    "        phase = 'Reversal Candidate (bear exhausted)'\n",
    "    elif mom == 'overbought' and vol == 'high':\n",
    "        phase = 'Reversal Candidate (bull exhausted)'\n",
    "    else:\n",
    "        phase = 'Unknown/Transition'\n",
    "\n",
    "    # Score: trend bias plus momentum/volatility modifier\n",
    "    score = 0\n",
    "    score += 1 if trend == 'bull' else -1 if trend == 'bear' else 0\n",
    "    if mom == 'overbought':\n",
    "        score -= 1\n",
    "    if mom == 'oversold':\n",
    "        score += 1\n",
    "    if vol == 'high':\n",
    "        score *= 2\n",
    "\n",
    "    return phase, trend, mom, vol, score\n"
   ]
  },
  {
   "cell_type": "code",
   "execution_count": 2,
   "id": "af0a04a2",
   "metadata": {
    "execution": {
     "iopub.execute_input": "2025-09-06T15:19:34.537277Z",
     "iopub.status.busy": "2025-09-06T15:19:34.536748Z",
     "iopub.status.idle": "2025-09-06T15:19:34.545052Z",
     "shell.execute_reply": "2025-09-06T15:19:34.544501Z"
    },
    "papermill": {
     "duration": 0.0114,
     "end_time": "2025-09-06T15:19:34.545572",
     "exception": false,
     "start_time": "2025-09-06T15:19:34.534172",
     "status": "completed"
    },
    "tags": []
   },
   "outputs": [],
   "source": [
    "# Integrate PDF-derived rules: RSI divergence detection and PDF-driven adjustments\n",
    "\n",
    "def detect_rsi_divergence(df, kind='high'):\n",
    "    \"\"\"Detect simple regular divergence using the last two pivots of specified kind.\n",
    "    Returns (bool, info) where info contains pivot timestamps.\n",
    "    \"\"\"\n",
    "    if 'pivot' not in df.columns:\n",
    "        return False, None\n",
    "    piv = df.dropna(subset=['pivot'])[['close', 'rsi14', 'pivot']]\n",
    "    piv = piv[piv['pivot'] == kind]\n",
    "    if len(piv) < 2:\n",
    "        return False, None\n",
    "    last_two = piv.tail(2)\n",
    "    p1 = last_two.iloc[0]\n",
    "    p2 = last_two.iloc[1]\n",
    "    price1, price2 = p1['close'], p2['close']\n",
    "    rsi1, rsi2 = p1['rsi14'], p2['rsi14']\n",
    "    if kind == 'high':\n",
    "        # bearish regular divergence: price makes higher high, RSI makes lower high\n",
    "        if price2 > price1 and rsi2 < rsi1:\n",
    "            return True, {'type': 'bear_reg', 'pivots': list(last_two.index)}\n",
    "    else:\n",
    "        # bullish regular divergence: price makes lower low, RSI makes higher low\n",
    "        if price2 < price1 and rsi2 > rsi1:\n",
    "            return True, {'type': 'bull_reg', 'pivots': list(last_two.index)}\n",
    "    return False, None\n",
    "\n",
    "\n",
    "def goldbach_phase_with_pdf(row, df=None):\n",
    "    \"\"\"Wrap goldbach_phase_refined and apply PDF-specific logic:\n",
    "    - Detect divergences and downgrade/flag phases accordingly\n",
    "    - Provide entry/stop suggestions based on recent pivots\n",
    "\n",
    "    Returns: phase, trend, mom, vol, score, meta_dict\n",
    "    \"\"\"\n",
    "    phase, trend, mom, vol, score = goldbach_phase_refined(row, df=df)\n",
    "    div_bear, info_b = (False, None)\n",
    "    div_bull, info_l = (False, None)\n",
    "    if df is not None:\n",
    "        div_bear, info_b = detect_rsi_divergence(df, kind='high')\n",
    "        div_bull, info_l = detect_rsi_divergence(df, kind='low')\n",
    "    # Apply PDF guidance\n",
    "    if div_bear and trend == 'bull':\n",
    "        phase = 'Reversal Candidate (bear divergence)'\n",
    "        score -= 2\n",
    "    if div_bull and trend == 'bear':\n",
    "        phase = 'Reversal Candidate (bull divergence)'\n",
    "        score += 2\n",
    "\n",
    "    # Entry/stop suggestions\n",
    "    entry_suggestion = None\n",
    "    stop_suggestion = None\n",
    "    if trend == 'bull' and df is not None:\n",
    "        idx_low, lvl_low = recent_pivot_level(df, 'low', lookback=200)\n",
    "        if lvl_low is not None and row.get('atr14') is not None:\n",
    "            entry_suggestion = f'Pullback to EMA{EMA_FAST} or pivot low ~{lvl_low:.2f}'\n",
    "            stop_suggestion = max(0.0, lvl_low - 0.5 * row['atr14'])\n",
    "        else:\n",
    "            entry_suggestion = f'Pullback to EMA{EMA_FAST} or mid-BB'\n",
    "    if trend == 'bear' and df is not None:\n",
    "        idx_high, lvl_high = recent_pivot_level(df, 'high', lookback=200)\n",
    "        if lvl_high is not None and row.get('atr14') is not None:\n",
    "            entry_suggestion = f'Pullback to EMA{EMA_FAST} or pivot high ~{lvl_high:.2f}'\n",
    "            stop_suggestion = lvl_high + 0.5 * row['atr14']\n",
    "        else:\n",
    "            entry_suggestion = f'Pullback to EMA{EMA_FAST} or mid-BB'\n",
    "\n",
    "    meta = {'div_bear': info_b, 'div_bull': info_l, 'entry': entry_suggestion, 'stop': stop_suggestion}\n",
    "    return phase, trend, mom, vol, score, meta\n"
   ]
  },
  {
   "cell_type": "code",
   "execution_count": 3,
   "id": "fe484d24",
   "metadata": {
    "execution": {
     "iopub.execute_input": "2025-09-06T15:19:34.550218Z",
     "iopub.status.busy": "2025-09-06T15:19:34.550218Z",
     "iopub.status.idle": "2025-09-06T15:19:34.556483Z",
     "shell.execute_reply": "2025-09-06T15:19:34.555973Z"
    },
    "papermill": {
     "duration": 0.009372,
     "end_time": "2025-09-06T15:19:34.557013",
     "exception": false,
     "start_time": "2025-09-06T15:19:34.547641",
     "status": "completed"
    },
    "tags": []
   },
   "outputs": [
    {
     "name": "stdout",
     "output_type": "stream",
     "text": [
      "Parameters overridden: coinbase, ETH/USD, timeframe=15m, limit=800\n"
     ]
    }
   ],
   "source": [
    "# Override parameters: use Coinbase and USD pair\n",
    "EXCHANGE_ID = 'coinbase'  # CCXT id for Coinbase (public market data)\n",
    "SYMBOL = 'ETH/USD'         # Coinbase uses USD rather than USDT\n",
    "TIMEFRAME = '15m'\n",
    "LIMIT = 800  # increase lookback for backtest stability\n",
    "\n",
    "print(f'Parameters overridden: {EXCHANGE_ID}, {SYMBOL}, timeframe={TIMEFRAME}, limit={LIMIT}')"
   ]
  },
  {
   "cell_type": "markdown",
   "id": "94dd775a",
   "metadata": {
    "papermill": {
     "duration": 0.002069,
     "end_time": "2025-09-06T15:19:34.561144",
     "exception": false,
     "start_time": "2025-09-06T15:19:34.559075",
     "status": "completed"
    },
    "tags": []
   },
   "source": [
    "# Updates: Coinbase Pro + tightened pivots + simple backtester\n",
    "\n",
    "This notebook was extended to:\n",
    "\n",
    "- Use Coinbase Pro (ETH/USD) instead of Binance.\n",
    "- Include a stricter pivot detector (ATR-based prominence) and improved Goldbach phase mapping.\n",
    "- Add a small, illustrative backtester for the simple Goldbach rules.\n",
    "\n",
    "Run the notebook from top to bottom to ensure the new cells override prior definitions."
   ]
  },
  {
   "cell_type": "markdown",
   "id": "87eca3f3",
   "metadata": {
    "papermill": {
     "duration": 0.001527,
     "end_time": "2025-09-06T15:19:34.564199",
     "exception": false,
     "start_time": "2025-09-06T15:19:34.562672",
     "status": "completed"
    },
    "tags": []
   },
   "source": [
    "# ETH 15m — Goldbach-inspired analysis\n",
    "This notebook fetches 15-minute ETH/USDT candles from Binance (via CCXT), computes simple indicators (EMA20/50, RSI14, Bollinger Bands), detects pivots, and labels each bar with a simplified Goldbach phase.\n",
    "\n",
    "Assumptions (tunable): EMA20/EMA50 trend, RSI(14) momentum (70/30), Bollinger(20,2) width thresholds, pivot lookback=3.\n",
    "\n",
    "Use the cell below to install requirements in the active kernel if needed: `%pip install -r requirements.txt` or run the equivalent in PowerShell."
   ]
  },
  {
   "cell_type": "code",
   "execution_count": 4,
   "id": "113d87d1",
   "metadata": {
    "execution": {
     "iopub.execute_input": "2025-09-06T15:19:34.568857Z",
     "iopub.status.busy": "2025-09-06T15:19:34.568857Z",
     "iopub.status.idle": "2025-09-06T15:19:35.442395Z",
     "shell.execute_reply": "2025-09-06T15:19:35.441885Z"
    },
    "papermill": {
     "duration": 0.877142,
     "end_time": "2025-09-06T15:19:35.443414",
     "exception": false,
     "start_time": "2025-09-06T15:19:34.566272",
     "status": "completed"
    },
    "tags": []
   },
   "outputs": [],
   "source": [
    "# Optional: install (run in notebook kernel)\n",
    "# %pip install ccxt pandas numpy ta python-dateutil\n",
    "\n",
    "import ccxt\n",
    "import pandas as pd\n",
    "import numpy as np\n",
    "import ta\n",
    "from datetime import datetime, timezone\n",
    "import matplotlib.pyplot as plt\n",
    "\n",
    "pd.options.display.float_format = '{:,.6f}'.format"
   ]
  },
  {
   "cell_type": "code",
   "execution_count": 5,
   "id": "f52e6c1a",
   "metadata": {
    "execution": {
     "iopub.execute_input": "2025-09-06T15:19:35.448536Z",
     "iopub.status.busy": "2025-09-06T15:19:35.448536Z",
     "iopub.status.idle": "2025-09-06T15:19:35.453311Z",
     "shell.execute_reply": "2025-09-06T15:19:35.452764Z"
    },
    "papermill": {
     "duration": 0.007856,
     "end_time": "2025-09-06T15:19:35.453825",
     "exception": false,
     "start_time": "2025-09-06T15:19:35.445969",
     "status": "completed"
    },
    "tags": []
   },
   "outputs": [
    {
     "name": "stdout",
     "output_type": "stream",
     "text": [
      "Parameters set: coinbase ETH/USD 15m limit=1200\n"
     ]
    }
   ],
   "source": [
    "# Parameters (tweak these to match your Goldbach rules)\n",
    "EXCHANGE_ID = 'coinbase'   # use Coinbase public market data\n",
    "SYMBOL = 'ETH/USD'            # Coinbase uses USD (not USDT)\n",
    "TIMEFRAME = '15m'\n",
    "LIMIT = 1200                  # number of candles to fetch (increase for backtests)\n",
    "\n",
    "# Indicator settings (tuned)\n",
    "EMA_FAST = 13    # faster short EMA for more responsive pullback detection\n",
    "EMA_SLOW = 55\n",
    "RSI_LEN = 14\n",
    "RSI_OB = 72\n",
    "RSI_OS = 28\n",
    "BB_WINDOW = 20\n",
    "BB_DEV = 2\n",
    "BB_WIDTH_LOW = 0.015   # narrower low-vol threshold\n",
    "BB_WIDTH_HIGH = 0.07   # larger high-vol threshold\n",
    "\n",
    "# Pivot / sizing / risk (tuned)\n",
    "PIVOT_LOOKBACK = 5\n",
    "STOP_ATR_MULT = 1.8\n",
    "\n",
    "# Backtest / execution defaults\n",
    "BACKTEST_RISK_PCT = 0.01   # risk 1% of capital per trade\n",
    "BACKTEST_SLIPPAGE = 0.0008 # 0.08% slippage assumption\n",
    "BACKTEST_FEE = 0.0015      # 0.15% per trade fee assumption\n",
    "\n",
    "print(f'Parameters set: {EXCHANGE_ID} {SYMBOL} {TIMEFRAME} limit={LIMIT}')"
   ]
  },
  {
   "cell_type": "code",
   "execution_count": null,
   "id": "996303ad",
   "metadata": {
    "papermill": {
     "duration": 0.002108,
     "end_time": "2025-09-06T15:19:35.458097",
     "exception": false,
     "start_time": "2025-09-06T15:19:35.455989",
     "status": "completed"
    },
    "tags": []
   },
   "outputs": [],
   "source": []
  },
  {
   "cell_type": "code",
   "execution_count": null,
   "id": "ee164481",
   "metadata": {
    "papermill": {
     "duration": 0.002098,
     "end_time": "2025-09-06T15:19:35.461785",
     "exception": false,
     "start_time": "2025-09-06T15:19:35.459687",
     "status": "completed"
    },
    "tags": []
   },
   "outputs": [],
   "source": []
  },
  {
   "cell_type": "markdown",
   "id": "879fe81e",
   "metadata": {
    "tags": [
     "papermill-error-cell-tag"
    ]
   },
   "source": [
    "<span id=\"papermill-error-cell\" style=\"color:red; font-family:Helvetica Neue, Helvetica, Arial, sans-serif; font-size:2em;\">Execution using papermill encountered an exception here and stopped:</span>"
   ]
  },
  {
   "cell_type": "code",
   "execution_count": 6,
   "id": "573fa4bb",
   "metadata": {
    "execution": {
     "iopub.execute_input": "2025-09-06T15:19:35.466500Z",
     "iopub.status.busy": "2025-09-06T15:19:35.465965Z",
     "iopub.status.idle": "2025-09-06T15:19:35.933353Z",
     "shell.execute_reply": "2025-09-06T15:19:35.932832Z"
    },
    "papermill": {
     "duration": 0.471032,
     "end_time": "2025-09-06T15:19:35.934385",
     "exception": true,
     "start_time": "2025-09-06T15:19:35.463353",
     "status": "failed"
    },
    "tags": []
   },
   "outputs": [
    {
     "ename": "NameError",
     "evalue": "name 'df' is not defined",
     "output_type": "error",
     "traceback": [
      "\u001b[31m---------------------------------------------------------------------------\u001b[39m",
      "\u001b[31mNameError\u001b[39m                                 Traceback (most recent call last)",
      "\u001b[36mCell\u001b[39m\u001b[36m \u001b[39m\u001b[32mIn[6]\u001b[39m\u001b[32m, line 106\u001b[39m\n\u001b[32m    103\u001b[39m     \u001b[38;5;28;01mreturn\u001b[39;00m trades_df\n\u001b[32m    105\u001b[39m \u001b[38;5;66;03m# Run the updated backtester and save\u001b[39;00m\n\u001b[32m--> \u001b[39m\u001b[32m106\u001b[39m trades_df = backtest_goldbach(\u001b[43mdf\u001b[49m.copy())\n\u001b[32m    107\u001b[39m \u001b[38;5;66;03m# show first 5 trades\u001b[39;00m\n\u001b[32m    108\u001b[39m trades_df.head(\u001b[32m5\u001b[39m)\n",
      "\u001b[31mNameError\u001b[39m: name 'df' is not defined"
     ]
    }
   ],
   "source": [
    "# Backtester updated to use Goldbach PDF rules with long + short logic and CSV export\n",
    "import math\n",
    "import os\n",
    "\n",
    "def backtest_goldbach(df, initial_capital=10000.0, risk_pct=BACKTEST_RISK_PCT, slippage=BACKTEST_SLIPPAGE, fee=BACKTEST_FEE):\n",
    "    df = df.copy().dropna(subset=['ema20','ema50','atr14'])\n",
    "    capital = initial_capital\n",
    "    position = 0.0  # units of ETH\n",
    "    side = None\n",
    "    entry = None\n",
    "    trades = []\n",
    "\n",
    "    for i in range(50, len(df)-1):\n",
    "        row = df.iloc[i]\n",
    "        next_open = df.iloc[i+1]['open']\n",
    "        phase, trend, mom, vol, score, meta = goldbach_phase_with_pdf(row, df=df.iloc[:i+1])\n",
    "        div_bear = meta.get('div_bear')\n",
    "        div_bull = meta.get('div_bull')\n",
    "\n",
    "        # Entry: LONG\n",
    "        if position == 0:\n",
    "            if trend == 'bull' and (row['close'] <= row['ema20'] * 1.002 or (meta.get('entry') and 'pivot low' in str(meta.get('entry')))) and row['rsi14'] > 40 and not div_bear:\n",
    "                idx_low, lvl_low = recent_pivot_level(df.iloc[:i+1], 'low', lookback=200)\n",
    "                stop = (lvl_low - 0.5 * row['atr14']) if lvl_low is not None else row['close'] - STOP_ATR_MULT * row['atr14']\n",
    "                risk_per_unit = next_open - stop if next_open > stop else row['atr14']\n",
    "                if risk_per_unit <= 0:\n",
    "                    continue\n",
    "                usd_risk = capital * risk_pct\n",
    "                units = usd_risk / risk_per_unit\n",
    "                entry_price = next_open * (1 + slippage)\n",
    "                position = units\n",
    "                side = 'long'\n",
    "                entry = {'side':'long','entry':entry_price,'stop':stop,'units':units,'entry_idx':row.name,'fee':fee,'slippage':slippage}\n",
    "                trades.append(entry.copy())\n",
    "\n",
    "            # Entry: SHORT\n",
    "            elif trend == 'bear' and (row['close'] >= row['ema20'] * 0.998 or (meta.get('entry') and 'pivot high' in str(meta.get('entry')))) and row['rsi14'] < 60 and not div_bull:\n",
    "                idx_high, lvl_high = recent_pivot_level(df.iloc[:i+1], 'high', lookback=200)\n",
    "                stop = (lvl_high + 0.5 * row['atr14']) if lvl_high is not None else row['close'] + STOP_ATR_MULT * row['atr14']\n",
    "                risk_per_unit = stop - next_open if stop > next_open else row['atr14']\n",
    "                if risk_per_unit <= 0:\n",
    "                    continue\n",
    "                usd_risk = capital * risk_pct\n",
    "                units = usd_risk / risk_per_unit\n",
    "                entry_price = next_open * (1 - slippage)\n",
    "                position = -units\n",
    "                side = 'short'\n",
    "                entry = {'side':'short','entry':entry_price,'stop':stop,'units':units,'entry_idx':row.name,'fee':fee,'slippage':slippage}\n",
    "                trades.append(entry.copy())\n",
    "\n",
    "        else:\n",
    "            # Manage open position: check stop or target 2x\n",
    "            current_price = row['close']\n",
    "            last = trades[-1]\n",
    "            stop = last['stop']\n",
    "            if last['side'] == 'long':\n",
    "                target = last['entry'] + 2*(last['entry'] - stop)\n",
    "                if current_price <= stop:\n",
    "                    exit_price = current_price * (1 - slippage) - fee*current_price\n",
    "                    pnl = (exit_price - last['entry']) * last['units']\n",
    "                    capital += pnl\n",
    "                    last.update({'exit':exit_price,'pnl':pnl,'exit_idx':row.name})\n",
    "                    position = 0\n",
    "                    side = None\n",
    "                elif current_price >= target:\n",
    "                    exit_price = target * (1 - slippage) - fee*target\n",
    "                    pnl = (exit_price - last['entry']) * last['units']\n",
    "                    capital += pnl\n",
    "                    last.update({'exit':exit_price,'pnl':pnl,'exit_idx':row.name})\n",
    "                    position = 0\n",
    "                    side = None\n",
    "            else:  # short\n",
    "                target = last['entry'] - 2*(stop - last['entry'])\n",
    "                if current_price >= stop:\n",
    "                    exit_price = current_price * (1 + slippage) + fee*current_price\n",
    "                    pnl = (last['entry'] - exit_price) * last['units']\n",
    "                    capital += pnl\n",
    "                    last.update({'exit':exit_price,'pnl':pnl,'exit_idx':row.name})\n",
    "                    position = 0\n",
    "                    side = None\n",
    "                elif current_price <= target:\n",
    "                    exit_price = target * (1 + slippage) + fee*target\n",
    "                    pnl = (last['entry'] - exit_price) * last['units']\n",
    "                    capital += pnl\n",
    "                    last.update({'exit':exit_price,'pnl':pnl,'exit_idx':row.name})\n",
    "                    position = 0\n",
    "                    side = None\n",
    "\n",
    "    # Summarize and export trades\n",
    "    trades_df = pd.DataFrame(trades)\n",
    "    if not trades_df.empty:\n",
    "        trades_df['pnl'] = trades_df.get('pnl', pd.Series([None]*len(trades_df)))\n",
    "    wins = trades_df[trades_df['pnl']>0] if not trades_df.empty else pd.DataFrame()\n",
    "    losses = trades_df[trades_df['pnl']<=0] if not trades_df.empty else pd.DataFrame()\n",
    "    total_pnl = trades_df['pnl'].sum() if not trades_df.empty else 0.0\n",
    "    print('Backtest summary (Goldbach rules integrated)')\n",
    "    print(f'Trades: {len(trades_df)}, Wins: {len(wins)}, Losses: {len(losses)}, PnL: {total_pnl:.2f}, Final capital: {capital:.2f}')\n",
    "\n",
    "    # Save CSV\n",
    "    out_path = os.path.join(os.getcwd(), 'goldbach_trades.csv')\n",
    "    trades_df.to_csv(out_path, index=False)\n",
    "    print(f'Trades exported to: {out_path}')\n",
    "    return trades_df\n",
    "\n",
    "# Run the updated backtester and save\n",
    "trades_df = backtest_goldbach(df.copy())\n",
    "# show first 5 trades\n",
    "trades_df.head(5)\n"
   ]
  },
  {
   "cell_type": "code",
   "execution_count": null,
   "id": "493896c6",
   "metadata": {
    "papermill": {
     "duration": null,
     "end_time": null,
     "exception": null,
     "start_time": null,
     "status": "pending"
    },
    "tags": []
   },
   "outputs": [],
   "source": [
    "# Current snapshot: last candle, phase, and suggested entry/stop\n",
    "cur = df.iloc[-1]\n",
    "phase, trend, mom, vol, score, meta = goldbach_phase_with_pdf(cur, df=df)\n",
    "snapshot = {\n",
    "    'time_utc': df.index[-1],\n",
    "    'price': cur['close'],\n",
    "    'phase': phase,\n",
    "    'trend': trend,\n",
    "    'momentum': mom,\n",
    "    'volatility': vol,\n",
    "    'score': score,\n",
    "    'entry_suggestion': meta.get('entry'),\n",
    "    'stop_suggestion': meta.get('stop')\n",
    "}\n",
    "import pandas as _pd\n",
    "print('Current snapshot:')\n",
    "print(_pd.DataFrame([snapshot]).T)\n"
   ]
  }
 ],
 "metadata": {
  "language_info": {
   "codemirror_mode": {
    "name": "ipython",
    "version": 3
   },
   "file_extension": ".py",
   "mimetype": "text/x-python",
   "name": "python",
   "nbconvert_exporter": "python",
   "pygments_lexer": "ipython3",
   "version": "3.12.10"
  },
  "papermill": {
   "default_parameters": {},
   "duration": 3.813665,
   "end_time": "2025-09-06T15:19:36.246827",
   "environment_variables": {},
   "exception": true,
   "input_path": "D:\\OneDrive\\Documents\\GitHub\\FINANCIAL-TOOLS\\Goldbach\\eth_15m_goldbach_notebook.ipynb",
   "output_path": "D:\\OneDrive\\Documents\\GitHub\\FINANCIAL-TOOLS\\Goldbach\\eth_15m_goldbach_executed.ipynb",
   "parameters": {},
   "start_time": "2025-09-06T15:19:32.433162",
   "version": "2.6.0"
  }
 },
 "nbformat": 4,
 "nbformat_minor": 5
}